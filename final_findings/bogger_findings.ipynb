{
 "cells": [
  {
   "cell_type": "markdown",
   "metadata": {
    "deletable": true,
    "editable": true
   },
   "source": [
    "## RoxOff - final findings\n",
    "The final findings of the [RoxOff](https://portal.unearthed.solutions/competitions/unearthed-melbourne-2016/submissions/roxoff-trainer) team as part of the [Unearthed hackathon - Melbourne 2017](https://portal.unearthed.solutions/competitions/unearthed-melbourne-2016) as part of [Newcrest Challenge #3: Underground Loader Optimisation](https://portal.unearthed.solutions/competitions/unearthed-melbourne-2016/challenges/54) are sumarised in this notebook.\n",
    "\n",
    "**As Presented**\n",
    "In the time of the challenge we only had time to:\n",
    "* create a score card for a driver to quickly see how many below/above average runs the driver did during a 6 hour shift\n",
    "* compare speed between drivers on the same run\n",
    "* present the idea of an _\"Adaptive Driver Training\"_ concept that would relay the current performance of a driver (for a given model of what a \"good run\" is - in our case speed)\n",
    "* extend the concept to allow the console operator also see a \"ghost car\" of where the driver should be for an \"optimun\" run\n",
    "* we concluded that our model of \"speed\" is not optimal and maybe slowing the driver down to avoid red lights and make better use of the engine, fuel efficiency etc would need to be taken into account in the model\n",
    "\n",
    "**Further work**\n",
    "* User test the idea of in car heads up display on the drivers\n",
    "* User test how best to present the idea of monitoring a whole fleet of loaders from the console operator\n",
    "* Better analyse location (corners etc) to gear selection as suggested in the challenge particulars below. We did attempt to trilatirate the LIDAR location data but did not present it\n",
    "* On a fleet analyse if automated loaders could maybe not move faster but could have more of them working together with more effiency\n",
    "\n",
    "## Challenge particulars\n",
    "Are as follows:\n",
    "* _\"Develop a data tool to allow optimisation analysis\"_\n",
    "* location [Cadia Valley NSW](http://www.newcrest.com.au/our-business/operations/cadia-nsw/)\n",
    "* fleet of CAT3000 underground loaders\n",
    "* objective of loaders to safely and efficiently move broken rock from block cave draw points to crusher ROM bins\n",
    "* no previous analysis with regards to gear selection, speed, approach to corners, fuel burn etc\n",
    "* potential areas to consider:\n",
    "  * what is the best way torun these machines?\n",
    "  * how to detect inefficency or safety coners\n",
    "  * how can operator performance be improved?\n",
    "  * can the characterisation data be used to make autonomous loaders as productive as manual operations?\n",
    "* data provided\n",
    "  * data for specific loader\n",
    "  * including tonnage, operator, positioning lidar, cycle time, etc\n",
    "  * our prelim analysis on the data\n",
    "    * [Equipment Task data](../prelim_analysis/Equipment_task_overview.ipynb)\n",
    "    * [Bogger Cycle data](../prelim_analysis/Bogger_cycle_overview.ipynb)\n",
    "    * [Vehichle data](../prelim_analysis/Vehicle_data_overview.ipynb)"
   ]
  },
  {
   "cell_type": "markdown",
   "metadata": {},
   "source": [
    "## Find comparable runs\n",
    "TODO\n",
    "- align bogger cycle with vehichle data\n",
    "- filter on cycles with same draw point and tipple name"
   ]
  },
  {
   "cell_type": "markdown",
   "metadata": {},
   "source": [
    "## Driver score card for a shift\n",
    "TODO\n",
    "for comparable loader cycles\n",
    "* find the range of runs\n",
    "* divide into a below, mean, above grade of cycle run\n",
    "* create a score card per shift for drivers\n",
    "* compare score cards"
   ]
  },
  {
   "cell_type": "markdown",
   "metadata": {},
   "source": [
    "## Comparing runs\n",
    "TODO\n",
    "\n",
    "For comparable loader cycles\n",
    "* compare on various metrics"
   ]
  },
  {
   "cell_type": "markdown",
   "metadata": {},
   "source": [
    "## Trilatiration of a run\n",
    "TODO\n",
    "* Trilatirate the run and plot on a 2D space map\n",
    "* widget control to run forward and backward in time"
   ]
  },
  {
   "cell_type": "markdown",
   "metadata": {},
   "source": [
    "## \"Ghost car\" run comparison\n",
    "TODO\n",
    "* compare various runs, or a best run, on the 2D space"
   ]
  }
 ],
 "metadata": {
  "kernelspec": {
   "display_name": "Python 3",
   "language": "python",
   "name": "python3"
  },
  "language_info": {
   "codemirror_mode": {
    "name": "ipython",
    "version": 3
   },
   "file_extension": ".py",
   "mimetype": "text/x-python",
   "name": "python",
   "nbconvert_exporter": "python",
   "pygments_lexer": "ipython3",
   "version": "3.5.1"
  }
 },
 "nbformat": 4,
 "nbformat_minor": 2
}
