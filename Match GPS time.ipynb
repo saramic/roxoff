{
 "cells": [
  {
   "cell_type": "code",
   "execution_count": 2,
   "metadata": {
    "collapsed": true
   },
   "outputs": [],
   "source": [
    "import pandas as pd\n",
    "import numpy as np\n",
    "import matplotlib.pyplot as plt\n",
    "%matplotlib inline\n",
    "import util as util"
   ]
  },
  {
   "cell_type": "code",
   "execution_count": 6,
   "metadata": {
    "collapsed": false
   },
   "outputs": [
    {
     "data": {
      "text/html": [
       "<div>\n",
       "<table border=\"1\" class=\"dataframe\">\n",
       "  <thead>\n",
       "    <tr style=\"text-align: right;\">\n",
       "      <th></th>\n",
       "      <th>OriginationTimeStamp</th>\n",
       "      <th>OriginationTime</th>\n",
       "      <th>OriginationTimeGPS</th>\n",
       "    </tr>\n",
       "  </thead>\n",
       "  <tbody>\n",
       "    <tr>\n",
       "      <th>0</th>\n",
       "      <td>2006-11-07 06:36:23.716911</td>\n",
       "      <td>1.162881e+09</td>\n",
       "      <td>2016-11-11 06:36:06.376871</td>\n",
       "    </tr>\n",
       "    <tr>\n",
       "      <th>1</th>\n",
       "      <td>2006-11-07 06:36:24.377059</td>\n",
       "      <td>1.162881e+09</td>\n",
       "      <td>2016-11-11 06:36:06.376871</td>\n",
       "    </tr>\n",
       "    <tr>\n",
       "      <th>2</th>\n",
       "      <td>2006-11-07 06:36:24.996929</td>\n",
       "      <td>1.162881e+09</td>\n",
       "      <td>2016-11-11 06:36:06.376871</td>\n",
       "    </tr>\n",
       "    <tr>\n",
       "      <th>3</th>\n",
       "      <td>2006-11-07 06:36:25.617042</td>\n",
       "      <td>1.162881e+09</td>\n",
       "      <td>2016-11-11 06:36:06.376871</td>\n",
       "    </tr>\n",
       "    <tr>\n",
       "      <th>4</th>\n",
       "      <td>2006-11-07 06:36:26.237147</td>\n",
       "      <td>1.162881e+09</td>\n",
       "      <td>2016-11-11 06:36:06.376871</td>\n",
       "    </tr>\n",
       "    <tr>\n",
       "      <th>5</th>\n",
       "      <td>2006-11-07 06:36:26.897090</td>\n",
       "      <td>1.162881e+09</td>\n",
       "      <td>2016-11-11 06:36:06.376871</td>\n",
       "    </tr>\n",
       "    <tr>\n",
       "      <th>6</th>\n",
       "      <td>2006-11-07 06:36:27.517201</td>\n",
       "      <td>1.162881e+09</td>\n",
       "      <td>2016-11-11 06:36:06.376871</td>\n",
       "    </tr>\n",
       "    <tr>\n",
       "      <th>7</th>\n",
       "      <td>2006-11-07 06:36:28.177292</td>\n",
       "      <td>1.162881e+09</td>\n",
       "      <td>2016-11-11 06:36:06.376871</td>\n",
       "    </tr>\n",
       "    <tr>\n",
       "      <th>8</th>\n",
       "      <td>2006-11-07 06:36:28.837191</td>\n",
       "      <td>1.162881e+09</td>\n",
       "      <td>2016-11-11 06:36:06.376871</td>\n",
       "    </tr>\n",
       "    <tr>\n",
       "      <th>9</th>\n",
       "      <td>2006-11-07 06:36:29.457610</td>\n",
       "      <td>1.162881e+09</td>\n",
       "      <td>2016-11-11 06:36:06.376871</td>\n",
       "    </tr>\n",
       "  </tbody>\n",
       "</table>\n",
       "</div>"
      ],
      "text/plain": [
       "        OriginationTimeStamp  OriginationTime         OriginationTimeGPS\n",
       "0 2006-11-07 06:36:23.716911     1.162881e+09 2016-11-11 06:36:06.376871\n",
       "1 2006-11-07 06:36:24.377059     1.162881e+09 2016-11-11 06:36:06.376871\n",
       "2 2006-11-07 06:36:24.996929     1.162881e+09 2016-11-11 06:36:06.376871\n",
       "3 2006-11-07 06:36:25.617042     1.162881e+09 2016-11-11 06:36:06.376871\n",
       "4 2006-11-07 06:36:26.237147     1.162881e+09 2016-11-11 06:36:06.376871\n",
       "5 2006-11-07 06:36:26.897090     1.162881e+09 2016-11-11 06:36:06.376871\n",
       "6 2006-11-07 06:36:27.517201     1.162881e+09 2016-11-11 06:36:06.376871\n",
       "7 2006-11-07 06:36:28.177292     1.162881e+09 2016-11-11 06:36:06.376871\n",
       "8 2006-11-07 06:36:28.837191     1.162881e+09 2016-11-11 06:36:06.376871\n",
       "9 2006-11-07 06:36:29.457610     1.162881e+09 2016-11-11 06:36:06.376871"
      ]
     },
     "execution_count": 6,
     "metadata": {},
     "output_type": "execute_result"
    }
   ],
   "source": [
    "bogger = pd.read_csv('../Orb/BoggerCycle_LD118.csv')\n",
    "bogger.head(3)\n",
    "m_data = pd.read_csv('../Vehicle data/November2016/2016.11.11/RCM00001/16.36.06_Complete_Log/LHDMachineData1162881383.csv')\n",
    "from datetime import datetime\n",
    "m_data['OriginationTimeStamp'] = m_data['OriginationTime'].apply(lambda x:datetime.utcfromtimestamp(x))\n",
    "\n",
    "m_data['OriginationTimeGPS'] = m_data['OriginationTime'].apply(lambda x:util.gps2utc(0, 1162881383.376871))\n",
    "m_data[['OriginationTimeStamp', 'OriginationTime']].head(10)\n",
    "m_data[['OriginationTimeStamp', 'OriginationTime', 'OriginationTimeGPS']].head(10)\n",
    "# util.gps2utc(0, 1162881383.376871)"
   ]
  },
  {
   "cell_type": "code",
   "execution_count": null,
   "metadata": {
    "collapsed": true
   },
   "outputs": [],
   "source": []
  }
 ],
 "metadata": {
  "kernelspec": {
   "display_name": "Python 3",
   "language": "python",
   "name": "python3"
  },
  "language_info": {
   "codemirror_mode": {
    "name": "ipython",
    "version": 3
   },
   "file_extension": ".py",
   "mimetype": "text/x-python",
   "name": "python",
   "nbconvert_exporter": "python",
   "pygments_lexer": "ipython3",
   "version": "3.5.1"
  }
 },
 "nbformat": 4,
 "nbformat_minor": 2
}
