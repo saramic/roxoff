{
 "cells": [
  {
   "cell_type": "code",
   "execution_count": 3,
   "metadata": {
    "collapsed": false,
    "deletable": true,
    "editable": true
   },
   "outputs": [],
   "source": [
    "import numpy as np\n",
    "import pandas as pd\n",
    "import tensorflow as tf\n",
    "import matplotlib.pyplot as plt\n",
    "\n",
    "bogger_cycle = pd.read_csv(\"../Orb/BoggerCycle_LD118.csv\")\n",
    "equipment_task = pd.read_csv(\"../Orb/EquipmentTask_LD118.csv\")"
   ]
  },
  {
   "cell_type": "code",
   "execution_count": 4,
   "metadata": {
    "collapsed": false,
    "deletable": true,
    "editable": true
   },
   "outputs": [],
   "source": [
    "from time import strftime, gmtime, strptime\n",
    "#from datetime import utcfromtimestamp\n",
    "#strftime(\"%B %d %Y\", \"1284101485\")\n",
    "#strftime(\"%a, %d %b %Y %H:%M:%S +0000\", datetime.utcnow())#utcfromtimestamp(1284101485))"
   ]
  },
  {
   "cell_type": "code",
   "execution_count": 5,
   "metadata": {
    "collapsed": false,
    "deletable": true,
    "editable": true
   },
   "outputs": [
    {
     "data": {
      "text/html": [
       "<div>\n",
       "<table border=\"1\" class=\"dataframe\">\n",
       "  <thead>\n",
       "    <tr style=\"text-align: right;\">\n",
       "      <th></th>\n",
       "      <th>Unnamed: 0</th>\n",
       "      <th>EquipmentName</th>\n",
       "      <th>TippleName</th>\n",
       "      <th>DrawPoint</th>\n",
       "      <th>StartDateTime</th>\n",
       "      <th>EndDateTime</th>\n",
       "      <th>Tonnage</th>\n",
       "      <th>StartLoadedDateTime</th>\n",
       "      <th>AuGrade</th>\n",
       "      <th>EmptyMetres</th>\n",
       "      <th>LoadedMetres</th>\n",
       "      <th>Operator</th>\n",
       "      <th>OrderID</th>\n",
       "      <th>DataSource</th>\n",
       "      <th>TonnesType</th>\n",
       "      <th>_CreatedInOrbBy</th>\n",
       "      <th>_CreatedInOrbAt</th>\n",
       "      <th>_LastUpdatedInOrbBy</th>\n",
       "      <th>_LastUpdatedInOrbAt</th>\n",
       "      <th>_UpdatedInOneViewAt</th>\n",
       "    </tr>\n",
       "  </thead>\n",
       "  <tbody>\n",
       "    <tr>\n",
       "      <th>0</th>\n",
       "      <td>1</td>\n",
       "      <td>LD118</td>\n",
       "      <td>DP103</td>\n",
       "      <td>112E05</td>\n",
       "      <td>2016-11-11 01:22:40</td>\n",
       "      <td>2016-11-11 01:25:48</td>\n",
       "      <td>16.95</td>\n",
       "      <td>2016-11-11 01:22:40</td>\n",
       "      <td>NaN</td>\n",
       "      <td>NaN</td>\n",
       "      <td>NaN</td>\n",
       "      <td>8697ed3c178553472fcdd09939e91bd61190211e6bb8ee...</td>\n",
       "      <td>NaN</td>\n",
       "      <td>MPM</td>\n",
       "      <td>Ordered</td>\n",
       "      <td>Orb</td>\n",
       "      <td>2016-11-11 01:26:01</td>\n",
       "      <td>Orb</td>\n",
       "      <td>2016-11-11 01:26:09</td>\n",
       "      <td>2016-11-11 01:26:40</td>\n",
       "    </tr>\n",
       "    <tr>\n",
       "      <th>1</th>\n",
       "      <td>2</td>\n",
       "      <td>LD118</td>\n",
       "      <td>DP103</td>\n",
       "      <td>112E05</td>\n",
       "      <td>2016-11-11 01:25:48</td>\n",
       "      <td>2016-11-11 01:28:29</td>\n",
       "      <td>16.30</td>\n",
       "      <td>2016-11-11 01:27:40</td>\n",
       "      <td>NaN</td>\n",
       "      <td>NaN</td>\n",
       "      <td>NaN</td>\n",
       "      <td>8697ed3c178553472fcdd09939e91bd61190211e6bb8ee...</td>\n",
       "      <td>NaN</td>\n",
       "      <td>MPM</td>\n",
       "      <td>Ordered</td>\n",
       "      <td>Orb</td>\n",
       "      <td>2016-11-11 01:29:01</td>\n",
       "      <td>Orb</td>\n",
       "      <td>2016-11-11 01:29:03</td>\n",
       "      <td>2016-11-11 01:29:40</td>\n",
       "    </tr>\n",
       "    <tr>\n",
       "      <th>2</th>\n",
       "      <td>3</td>\n",
       "      <td>LD118</td>\n",
       "      <td>DP103</td>\n",
       "      <td>112E05</td>\n",
       "      <td>2016-11-11 01:28:29</td>\n",
       "      <td>2016-11-11 01:35:55</td>\n",
       "      <td>14.00</td>\n",
       "      <td>2016-11-11 01:34:46</td>\n",
       "      <td>NaN</td>\n",
       "      <td>NaN</td>\n",
       "      <td>NaN</td>\n",
       "      <td>8697ed3c178553472fcdd09939e91bd61190211e6bb8ee...</td>\n",
       "      <td>NaN</td>\n",
       "      <td>MPM</td>\n",
       "      <td>Ordered</td>\n",
       "      <td>Orb</td>\n",
       "      <td>2016-11-11 01:36:07</td>\n",
       "      <td>Orb</td>\n",
       "      <td>2016-11-11 01:36:10</td>\n",
       "      <td>2016-11-11 01:36:40</td>\n",
       "    </tr>\n",
       "  </tbody>\n",
       "</table>\n",
       "</div>"
      ],
      "text/plain": [
       "   Unnamed: 0 EquipmentName TippleName DrawPoint        StartDateTime  \\\n",
       "0           1         LD118      DP103    112E05  2016-11-11 01:22:40   \n",
       "1           2         LD118      DP103    112E05  2016-11-11 01:25:48   \n",
       "2           3         LD118      DP103    112E05  2016-11-11 01:28:29   \n",
       "\n",
       "           EndDateTime  Tonnage  StartLoadedDateTime  AuGrade  EmptyMetres  \\\n",
       "0  2016-11-11 01:25:48    16.95  2016-11-11 01:22:40      NaN          NaN   \n",
       "1  2016-11-11 01:28:29    16.30  2016-11-11 01:27:40      NaN          NaN   \n",
       "2  2016-11-11 01:35:55    14.00  2016-11-11 01:34:46      NaN          NaN   \n",
       "\n",
       "   LoadedMetres                                           Operator  OrderID  \\\n",
       "0           NaN  8697ed3c178553472fcdd09939e91bd61190211e6bb8ee...      NaN   \n",
       "1           NaN  8697ed3c178553472fcdd09939e91bd61190211e6bb8ee...      NaN   \n",
       "2           NaN  8697ed3c178553472fcdd09939e91bd61190211e6bb8ee...      NaN   \n",
       "\n",
       "  DataSource TonnesType _CreatedInOrbBy      _CreatedInOrbAt  \\\n",
       "0        MPM    Ordered             Orb  2016-11-11 01:26:01   \n",
       "1        MPM    Ordered             Orb  2016-11-11 01:29:01   \n",
       "2        MPM    Ordered             Orb  2016-11-11 01:36:07   \n",
       "\n",
       "  _LastUpdatedInOrbBy  _LastUpdatedInOrbAt  _UpdatedInOneViewAt  \n",
       "0                 Orb  2016-11-11 01:26:09  2016-11-11 01:26:40  \n",
       "1                 Orb  2016-11-11 01:29:03  2016-11-11 01:29:40  \n",
       "2                 Orb  2016-11-11 01:36:10  2016-11-11 01:36:40  "
      ]
     },
     "execution_count": 5,
     "metadata": {},
     "output_type": "execute_result"
    }
   ],
   "source": [
    "bogger_cycle.head(3)"
   ]
  },
  {
   "cell_type": "code",
   "execution_count": 5,
   "metadata": {
    "collapsed": false,
    "deletable": true,
    "editable": true
   },
   "outputs": [
    {
     "data": {
      "text/plain": [
       "Index(['Unnamed: 0', 'EquipmentName', 'TippleName', 'DrawPoint',\n",
       "       'StartDateTime', 'EndDateTime', 'Tonnage', 'StartLoadedDateTime',\n",
       "       'AuGrade', 'EmptyMetres', 'LoadedMetres', 'Operator', 'OrderID',\n",
       "       'DataSource', 'TonnesType', '_CreatedInOrbBy', '_CreatedInOrbAt',\n",
       "       '_LastUpdatedInOrbBy', '_LastUpdatedInOrbAt', '_UpdatedInOneViewAt'],\n",
       "      dtype='object')"
      ]
     },
     "execution_count": 5,
     "metadata": {},
     "output_type": "execute_result"
    }
   ],
   "source": [
    "bogger_cycle.columns"
   ]
  },
  {
   "cell_type": "code",
   "execution_count": 6,
   "metadata": {
    "collapsed": false,
    "deletable": true,
    "editable": true
   },
   "outputs": [
    {
     "data": {
      "text/plain": [
       "[('Unnamed: 0', numpy.int64),\n",
       " ('EquipmentName', str),\n",
       " ('TippleName', str),\n",
       " ('DrawPoint', str),\n",
       " ('StartDateTime', str),\n",
       " ('EndDateTime', str),\n",
       " ('Tonnage', numpy.float64),\n",
       " ('StartLoadedDateTime', str),\n",
       " ('AuGrade', numpy.float64),\n",
       " ('EmptyMetres', numpy.float64),\n",
       " ('LoadedMetres', numpy.float64),\n",
       " ('Operator', str),\n",
       " ('OrderID', numpy.float64),\n",
       " ('DataSource', str),\n",
       " ('TonnesType', str),\n",
       " ('_CreatedInOrbBy', str),\n",
       " ('_CreatedInOrbAt', str),\n",
       " ('_LastUpdatedInOrbBy', str),\n",
       " ('_LastUpdatedInOrbAt', str),\n",
       " ('_UpdatedInOneViewAt', str)]"
      ]
     },
     "execution_count": 6,
     "metadata": {},
     "output_type": "execute_result"
    }
   ],
   "source": [
    "list(zip(bogger_cycle.columns, [type(x) for x in bogger_cycle.ix[0,:]]))"
   ]
  },
  {
   "cell_type": "code",
   "execution_count": 16,
   "metadata": {
    "collapsed": false,
    "deletable": true,
    "editable": true
   },
   "outputs": [
    {
     "data": {
      "text/plain": [
       "62"
      ]
     },
     "execution_count": 16,
     "metadata": {},
     "output_type": "execute_result"
    }
   ],
   "source": [
    "len(bogger_cycle['Operator'].unique())"
   ]
  },
  {
   "cell_type": "code",
   "execution_count": 17,
   "metadata": {
    "collapsed": false,
    "deletable": true,
    "editable": true
   },
   "outputs": [
    {
     "data": {
      "text/plain": [
       "array(['DP103', 'DP102', '_SP108W', '_SP108E', 'DP101', 'DP104', '_SP112E',\n",
       "       '_SP110E', '_SP114E', nan, '_SP112W', '_SP114W', '_SP116E'], dtype=object)"
      ]
     },
     "execution_count": 17,
     "metadata": {},
     "output_type": "execute_result"
    }
   ],
   "source": [
    "bogger_cycle['TippleName'].unique()"
   ]
  },
  {
   "cell_type": "code",
   "execution_count": 18,
   "metadata": {
    "collapsed": false,
    "deletable": true,
    "editable": true
   },
   "outputs": [
    {
     "data": {
      "text/plain": [
       "array(['112E05', '112E12', '112E02', '112W02', '108W04', '108W06',\n",
       "       '108W07', '108W03', '108E02', '108W12', '108W13', '108E03',\n",
       "       '108E09', '108E04', '108E05', '108E13', '108E08', '108E07',\n",
       "       '108E12', '108W11', '108W10', '108W02', '108W08', '108E11',\n",
       "       '108E10', '108E06', '108W05', '114E05', '114W07', '114W05',\n",
       "       '116W05', '112E04', '110E06', '112W05', '112W07', '112W03',\n",
       "       '112W04', '112W09', '112W11', '112W10', '112W12', '112W13',\n",
       "       '112E10', '112E07', '112E08', '112E03', '112E09', '112W08',\n",
       "       '112E13', '118E06', '118E03', '118E07', '118E10', '112W06',\n",
       "       '112E06', '114E02', '116E04', '116W02', '116W03', '112E11',\n",
       "       '114E08', '114W03', '114W02', '116E05', '114W10', '116W08',\n",
       "       '114W13', '114W11', '114E09', '114E03', '118E11', '116W04',\n",
       "       '118E09', '114W09', '116W09', '116W10', '114W12', '114E11',\n",
       "       '114E10', '114E04', '114E07', '116W07', '114E12', '114E06',\n",
       "       '114W08', '110W09', '110E12', '110E13', '110W13', '110E08',\n",
       "       '110E11', '116E12', '118W06', '118W10', '110E07', '116E09',\n",
       "       '116E07', '106W03', '106W08', '116W12', '114W04', '118W12',\n",
       "       '106E05', '118W05', '106W04', '106W07', '118W03', '114E13',\n",
       "       '118E04', '118W08', '118W04', '118E08', '118W11', '118W07',\n",
       "       '118W09', '118E12', '118E05', '118E02', '4650-EXT-118', '106E03',\n",
       "       '116W06'], dtype=object)"
      ]
     },
     "execution_count": 18,
     "metadata": {},
     "output_type": "execute_result"
    }
   ],
   "source": [
    "bogger_cycle['DrawPoint'].unique()"
   ]
  },
  {
   "cell_type": "code",
   "execution_count": 52,
   "metadata": {
    "collapsed": false,
    "deletable": true,
    "editable": true
   },
   "outputs": [
    {
     "data": {
      "text/plain": [
       "<matplotlib.axes._subplots.AxesSubplot at 0x1154c89e8>"
      ]
     },
     "execution_count": 52,
     "metadata": {},
     "output_type": "execute_result"
    },
    {
     "data": {
      "image/png": "[encoded data removed]",
      "text/plain": [
       "<matplotlib.figure.Figure at 0x11d360978>"
      ]
     },
     "metadata": {},
     "output_type": "display_data"
    }
   ],
   "source": [
    "%matplotlib inline\n",
    "# ts = pd.Series(np.random.randn(10), index=pd.date_range('1/1/2000', periods=10))\n",
    "# ts = ts.cumsum()\n",
    "# ts\n",
    "# plt.figure(); \n",
    "# ts.plot()\n",
    "bogger_cycle[['EndDateTime', 'Tonnage']][0:100].plot()\n"
   ]
  },
  {
   "cell_type": "code",
   "execution_count": 5,
   "metadata": {
    "collapsed": false,
    "deletable": true,
    "editable": true
   },
   "outputs": [
    {
     "data": {
      "text/html": [
       "<div>\n",
       "<table border=\"1\" class=\"dataframe\">\n",
       "  <thead>\n",
       "    <tr style=\"text-align: right;\">\n",
       "      <th></th>\n",
       "      <th>Unnamed: 0</th>\n",
       "      <th>StartDateTime</th>\n",
       "      <th>EndDateTime</th>\n",
       "      <th>EquipmentName</th>\n",
       "      <th>ActivityName</th>\n",
       "      <th>SubActivityName</th>\n",
       "      <th>ActivityCategoryName</th>\n",
       "      <th>LocationName</th>\n",
       "      <th>PanelCave</th>\n",
       "      <th>Operator</th>\n",
       "      <th>...</th>\n",
       "      <th>OrderStartDateTime</th>\n",
       "      <th>OrderLocationName</th>\n",
       "      <th>DataSource</th>\n",
       "      <th>_CreatedInOrbBy</th>\n",
       "      <th>_CreatedInOrbAt</th>\n",
       "      <th>_LastUpdatedInOrbBy</th>\n",
       "      <th>_LastUpdatedInOrbAt</th>\n",
       "      <th>_UpdatedInOneViewAt</th>\n",
       "      <th>ActivityGroup</th>\n",
       "      <th>CumulativeEngineHours</th>\n",
       "    </tr>\n",
       "  </thead>\n",
       "  <tbody>\n",
       "    <tr>\n",
       "      <th>0</th>\n",
       "      <td>1</td>\n",
       "      <td>2016-11-01 06:59:59</td>\n",
       "      <td>2016-11-01 18:59:59</td>\n",
       "      <td>LD118</td>\n",
       "      <td>Unknown</td>\n",
       "      <td>NaN</td>\n",
       "      <td>Unknown</td>\n",
       "      <td>Offsite</td>\n",
       "      <td>Cadia</td>\n",
       "      <td>8e0f023b8f94264c7900395406d6e4b41b97ff3a9662ee...</td>\n",
       "      <td>...</td>\n",
       "      <td>NaN</td>\n",
       "      <td>NaN</td>\n",
       "      <td>PITRAM</td>\n",
       "      <td>Orb</td>\n",
       "      <td>2016-11-01 07:04:10</td>\n",
       "      <td>Orb</td>\n",
       "      <td>2016-11-01 19:01:43</td>\n",
       "      <td>2016-11-01 19:02:00</td>\n",
       "      <td>NaN</td>\n",
       "      <td>NaN</td>\n",
       "    </tr>\n",
       "    <tr>\n",
       "      <th>1</th>\n",
       "      <td>2</td>\n",
       "      <td>2016-11-01 18:59:59</td>\n",
       "      <td>2016-11-02 06:59:59</td>\n",
       "      <td>LD118</td>\n",
       "      <td>Unknown</td>\n",
       "      <td>NaN</td>\n",
       "      <td>Unknown</td>\n",
       "      <td>Offsite</td>\n",
       "      <td>Cadia</td>\n",
       "      <td>8e0f023b8f94264c7900395406d6e4b41b97ff3a9662ee...</td>\n",
       "      <td>...</td>\n",
       "      <td>NaN</td>\n",
       "      <td>NaN</td>\n",
       "      <td>PITRAM</td>\n",
       "      <td>Orb</td>\n",
       "      <td>2016-11-01 19:01:42</td>\n",
       "      <td>Orb</td>\n",
       "      <td>2016-11-02 07:01:39</td>\n",
       "      <td>2016-11-02 07:02:41</td>\n",
       "      <td>NaN</td>\n",
       "      <td>NaN</td>\n",
       "    </tr>\n",
       "    <tr>\n",
       "      <th>2</th>\n",
       "      <td>3</td>\n",
       "      <td>2016-11-02 06:59:59</td>\n",
       "      <td>2016-11-02 18:59:59</td>\n",
       "      <td>LD118</td>\n",
       "      <td>Unknown</td>\n",
       "      <td>NaN</td>\n",
       "      <td>Unknown</td>\n",
       "      <td>Offsite</td>\n",
       "      <td>Cadia</td>\n",
       "      <td>8e0f023b8f94264c7900395406d6e4b41b97ff3a9662ee...</td>\n",
       "      <td>...</td>\n",
       "      <td>NaN</td>\n",
       "      <td>NaN</td>\n",
       "      <td>PITRAM</td>\n",
       "      <td>Orb</td>\n",
       "      <td>2016-11-02 07:01:38</td>\n",
       "      <td>Orb</td>\n",
       "      <td>2016-11-02 19:01:31</td>\n",
       "      <td>2016-11-02 19:01:49</td>\n",
       "      <td>NaN</td>\n",
       "      <td>NaN</td>\n",
       "    </tr>\n",
       "  </tbody>\n",
       "</table>\n",
       "<p>3 rows × 21 columns</p>\n",
       "</div>"
      ],
      "text/plain": [
       "   Unnamed: 0        StartDateTime          EndDateTime EquipmentName  \\\n",
       "0           1  2016-11-01 06:59:59  2016-11-01 18:59:59         LD118   \n",
       "1           2  2016-11-01 18:59:59  2016-11-02 06:59:59         LD118   \n",
       "2           3  2016-11-02 06:59:59  2016-11-02 18:59:59         LD118   \n",
       "\n",
       "  ActivityName SubActivityName ActivityCategoryName LocationName PanelCave  \\\n",
       "0      Unknown             NaN              Unknown      Offsite     Cadia   \n",
       "1      Unknown             NaN              Unknown      Offsite     Cadia   \n",
       "2      Unknown             NaN              Unknown      Offsite     Cadia   \n",
       "\n",
       "                                            Operator          ...           \\\n",
       "0  8e0f023b8f94264c7900395406d6e4b41b97ff3a9662ee...          ...            \n",
       "1  8e0f023b8f94264c7900395406d6e4b41b97ff3a9662ee...          ...            \n",
       "2  8e0f023b8f94264c7900395406d6e4b41b97ff3a9662ee...          ...            \n",
       "\n",
       "   OrderStartDateTime  OrderLocationName DataSource _CreatedInOrbBy  \\\n",
       "0                 NaN                NaN     PITRAM             Orb   \n",
       "1                 NaN                NaN     PITRAM             Orb   \n",
       "2                 NaN                NaN     PITRAM             Orb   \n",
       "\n",
       "       _CreatedInOrbAt _LastUpdatedInOrbBy  _LastUpdatedInOrbAt  \\\n",
       "0  2016-11-01 07:04:10                 Orb  2016-11-01 19:01:43   \n",
       "1  2016-11-01 19:01:42                 Orb  2016-11-02 07:01:39   \n",
       "2  2016-11-02 07:01:38                 Orb  2016-11-02 19:01:31   \n",
       "\n",
       "   _UpdatedInOneViewAt ActivityGroup CumulativeEngineHours  \n",
       "0  2016-11-01 19:02:00           NaN                   NaN  \n",
       "1  2016-11-02 07:02:41           NaN                   NaN  \n",
       "2  2016-11-02 19:01:49           NaN                   NaN  \n",
       "\n",
       "[3 rows x 21 columns]"
      ]
     },
     "execution_count": 5,
     "metadata": {},
     "output_type": "execute_result"
    }
   ],
   "source": [
    "equipment_task.head(3)"
   ]
  },
  {
   "cell_type": "code",
   "execution_count": 6,
   "metadata": {
    "collapsed": false,
    "deletable": true,
    "editable": true
   },
   "outputs": [
    {
     "data": {
      "text/plain": [
       "Index(['Unnamed: 0', 'StartDateTime', 'EndDateTime', 'EquipmentName',\n",
       "       'ActivityName', 'SubActivityName', 'ActivityCategoryName',\n",
       "       'LocationName', 'PanelCave', 'Operator', 'OperatorLoginDateTime',\n",
       "       'OrderStartDateTime', 'OrderLocationName', 'DataSource',\n",
       "       '_CreatedInOrbBy', '_CreatedInOrbAt', '_LastUpdatedInOrbBy',\n",
       "       '_LastUpdatedInOrbAt', '_UpdatedInOneViewAt', 'ActivityGroup',\n",
       "       'CumulativeEngineHours'],\n",
       "      dtype='object')"
      ]
     },
     "execution_count": 6,
     "metadata": {},
     "output_type": "execute_result"
    }
   ],
   "source": [
    "equipment_task.columns"
   ]
  },
  {
   "cell_type": "code",
   "execution_count": 7,
   "metadata": {
    "collapsed": false,
    "deletable": true,
    "editable": true
   },
   "outputs": [
    {
     "data": {
      "text/plain": [
       "[('Unnamed: 0', numpy.int64),\n",
       " ('StartDateTime', str),\n",
       " ('EndDateTime', str),\n",
       " ('EquipmentName', str),\n",
       " ('ActivityName', str),\n",
       " ('SubActivityName', float),\n",
       " ('ActivityCategoryName', str),\n",
       " ('LocationName', str),\n",
       " ('PanelCave', str),\n",
       " ('Operator', str),\n",
       " ('OperatorLoginDateTime', numpy.float64),\n",
       " ('OrderStartDateTime', numpy.float64),\n",
       " ('OrderLocationName', float),\n",
       " ('DataSource', str),\n",
       " ('_CreatedInOrbBy', str),\n",
       " ('_CreatedInOrbAt', str),\n",
       " ('_LastUpdatedInOrbBy', str),\n",
       " ('_LastUpdatedInOrbAt', str),\n",
       " ('_UpdatedInOneViewAt', str),\n",
       " ('ActivityGroup', float),\n",
       " ('CumulativeEngineHours', numpy.float64)]"
      ]
     },
     "execution_count": 7,
     "metadata": {},
     "output_type": "execute_result"
    }
   ],
   "source": [
    "list(zip(equipment_task.columns, [type(x) for x in equipment_task.ix[0,:]]))"
   ]
  },
  {
   "cell_type": "code",
   "execution_count": 22,
   "metadata": {
    "collapsed": false,
    "deletable": true,
    "editable": true
   },
   "outputs": [
    {
     "data": {
      "text/plain": [
       "array(['Unknown', 'Tramming for service', 'Electrical',\n",
       "       'Tramming for repair', 'Bogging', 'Wait Red Light', 'Wait Fitter',\n",
       "       'Wait Other Equipment', 'PM Tyres', 'Bunding',\n",
       "       'Tramming between jobs', 'Service Refuel Equipment', 'Tyres',\n",
       "       'Power Train', 'Released by workshop', 'Idle (Not Required)',\n",
       "       'Bogging - Roadworks', 'PM Daily', 'Wait Southern Perimeter',\n",
       "       'Prepping', 'Engine', 'Serv Failure - Vent', 'Hydraulics',\n",
       "       'Clean Up', 'No Operator', 'Bucket - GET', 'PM Service Overrun',\n",
       "       'Damage', 'PM Service', 'Wait Parts', 'Structural',\n",
       "       'Air Conditioning', 'Incident/Emergency',\n",
       "       'Serv Failure - Mine Water', 'Equipment not required',\n",
       "       'Preventative Maintenance', 'Wait Shift Boss',\n",
       "       'Wait - Independent Firing', 'Dust',\n",
       "       'Serv Failure - Communications', 'Wait - Firing/Re-Entries',\n",
       "       'Low Power', 'Frozen Scene', 'Over Heating', 'Samplers',\n",
       "       'Wait - Technology', 'Swap Operator ', 'Steering',\n",
       "       'Bogging - Manual'], dtype=object)"
      ]
     },
     "execution_count": 22,
     "metadata": {},
     "output_type": "execute_result"
    }
   ],
   "source": [
    "equipment_task['ActivityName'].unique()"
   ]
  },
  {
   "cell_type": "code",
   "execution_count": 53,
   "metadata": {
    "collapsed": false,
    "deletable": true,
    "editable": true
   },
   "outputs": [
    {
     "data": {
      "text/plain": [
       "<matplotlib.axes._subplots.AxesSubplot at 0x1154d74e0>"
      ]
     },
     "execution_count": 53,
     "metadata": {},
     "output_type": "execute_result"
    },
    {
     "data": {
      "image/png": "[encoded data removed]",
      "text/plain": [
       "<matplotlib.figure.Figure at 0x1154c1208>"
      ]
     },
     "metadata": {},
     "output_type": "display_data"
    }
   ],
   "source": [
    "equipment_task.plot()"
   ]
  }
 ],
 "metadata": {
  "kernelspec": {
   "display_name": "Python 3",
   "language": "python",
   "name": "python3"
  },
  "language_info": {
   "codemirror_mode": {
    "name": "ipython",
    "version": 3
   },
   "file_extension": ".py",
   "mimetype": "text/x-python",
   "name": "python",
   "nbconvert_exporter": "python",
   "pygments_lexer": "ipython3",
   "version": "3.5.1"
  }
 },
 "nbformat": 4,
 "nbformat_minor": 2
}
